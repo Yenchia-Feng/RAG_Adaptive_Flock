{
 "cells": [
  {
   "cell_type": "markdown",
   "metadata": {},
   "source": [
    "# Boid-Predator Simulation Runner\n",
    "\n",
    "This notebook runs the complete boid-predator simulation pipeline:\n",
    "1. Environment setup\n",
    "2. Data generation\n",
    "3. Vector store creation\n",
    "4. Running the simulation"
   ]
  },
  {
   "cell_type": "code",
   "execution_count": null,
   "metadata": {},
   "source": [
    "# Install required packages\n",
    "!pip install numpy matplotlib chromadb langchain langchain-openai python-dotenv ffmpeg-python"
   ]
  },
  {
   "cell_type": "code",
   "execution_count": null,
   "metadata": {},
   "source": [
    "# Import required libraries\n",
    "import os\n",
    "from dotenv import load_dotenv\n",
    "import sys\n",
    "\n",
    "# Load environment variables\n",
    "load_dotenv()\n",
    "\n",
    "# Check for OpenAI API key\n",
    "api_key = os.getenv('OPENAI_API_KEY')\n",
    "if not api_key:\n",
    "    print(\"Please set your OpenAI API key in .env file\")\n",
    "    # Create .env file if it doesn't exist\n",
    "    if not os.path.exists('.env'):\n",
    "        with open('.env', 'w') as f:\n",
    "            f.write('OPENAI_API_KEY=your_api_key_here')\n",
    "        print(\".env file created. Please add your API key and restart the notebook.\")\n",
    "        sys.exit(1)"
   ]
  },
  {
   "cell_type": "markdown",
   "metadata": {},
   "source": [
    "## 1. Create Required Directories"
   ]
  },
  {
   "cell_type": "code",
   "execution_count": null,
   "metadata": {},
   "source": [
    "# Create necessary directories\n",
    "directories = ['flock_data', 'vector_stores', 'predator_data']\n",
    "for directory in directories:\n",
    "    if not os.path.exists(directory):\n",
    "        os.makedirs(directory)\n",
    "        print(f\"Created directory: {directory}\")\n",
    "    else:\n",
    "        print(f\"Directory already exists: {directory}\")"
   ]
  },
  {
   "cell_type": "markdown",
   "metadata": {},
   "source": [
    "## 2. Generate Synthetic Data"
   ]
  },
  {
   "cell_type": "code",
   "execution_count": null,
   "metadata": {},
   "source": [
    "# Run synthetic data generation\n",
    "print(\"Generating synthetic data...\")\n",
    "%run synthetic_data_generation.py\n",
    "print(\"Data generation complete!\")"
   ]
  },
  {
   "cell_type": "markdown",
   "metadata": {},
   "source": [
    "## 3. Verify Data Generation"
   ]
  },
  {
   "cell_type": "code",
   "execution_count": null,
   "metadata": {},
   "source": [
    "# Check generated files\n",
    "def count_files_in_dir(directory):\n",
    "    files = [f for f in os.listdir(directory) if f.endswith('.csv')]\n",
    "    return len(files)\n",
    "\n",
    "print(f\"Number of files in flock_data: {count_files_in_dir('flock_data')}\")\n",
    "print(f\"Number of files in predator_data: {count_files_in_dir('predator_data')}\")\n",
    "\n",
    "# Preview a sample of the data\n",
    "import pandas as pd\n",
    "\n",
    "def preview_data(directory):\n",
    "    files = [f for f in os.listdir(directory) if f.endswith('.csv')]\n",
    "    if files:\n",
    "        sample_file = os.path.join(directory, files[0])\n",
    "        df = pd.read_csv(sample_file)\n",
    "        print(f\"\\nPreview of {files[0]}:\")\n",
    "        print(df.head())\n",
    "\n",
    "preview_data('flock_data')\n",
    "preview_data('predator_data')"
   ]
  },
  {
   "cell_type": "markdown",
   "metadata": {},
   "source": [
    "## 4. Run Simulation"
   ]
  },
  {
   "cell_type": "code",
   "execution_count": null,
   "metadata": {},
   "source": [
    "# Run the simulation\n",
    "print(\"Starting simulation...\")\n",
    "%matplotlib notebook  # For interactive plotting\n",
    "%run strategy_animation.py"
   ]
  },
  {
   "cell_type": "markdown",
   "metadata": {},
   "source": [
    "## 5. Save Animation (Optional)"
   ]
  },
  {
   "cell_type": "code",
   "execution_count": null,
   "metadata": {},
   "source": [
    "# Run simulation and save video\n",
    "print(\"Running simulation and saving video...\")\n",
    "!python strategy_animation.py --save"
   ]
  },
  {
   "cell_type": "markdown",
   "metadata": {},
   "source": [
    "## 6. Cleanup (Optional)"
   ]
  },
  {
   "cell_type": "code",
   "execution_count": null,
   "metadata": {},
   "source": [
    "# Optional: Clean up generated files\n",
    "def cleanup(directory):\n",
    "    import shutil\n",
    "    if os.path.exists(directory):\n",
    "        shutil.rmtree(directory)\n",
    "        print(f\"Cleaned up {directory}\")\n",
    "\n",
    "# Uncomment the following lines to clean up\n",
    "# cleanup('vector_stores')\n",
    "# cleanup('flock_data')\n",
    "# cleanup('predator_data')"
   ]
  }
 ],
 "metadata": {
  "kernelspec": {
   "display_name": "Python 3",
   "language": "python",
   "name": "python3"
  }
 },
 "nbformat": 4,
 "nbformat_minor": 2
}
